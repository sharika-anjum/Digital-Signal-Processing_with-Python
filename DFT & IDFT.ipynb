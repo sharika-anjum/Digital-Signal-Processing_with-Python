{
 "cells": [
  {
   "cell_type": "code",
   "execution_count": 1,
   "metadata": {},
   "outputs": [],
   "source": [
    "import numpy as np\n",
    "import cmath\n",
    "import math as m\n",
    "import matplotlib.pyplot as plt"
   ]
  },
  {
   "cell_type": "code",
   "execution_count": 2,
   "metadata": {},
   "outputs": [],
   "source": [
    "pi2 = cmath.pi * 2.0\n",
    "def DFT(fnList,N):\n",
    "    FmList = []\n",
    "    for m in range(N):\n",
    "        Fm = 0.0\n",
    "        for n in range(N):\n",
    "            Fm += fnList[n] * cmath.exp(- 1j * pi2 * m * n / N)\n",
    "        FmList.append(Fm)\n",
    "    return FmList"
   ]
  },
  {
   "cell_type": "code",
   "execution_count": 3,
   "metadata": {},
   "outputs": [
    {
     "data": {
      "text/plain": [
       "[(10+0j),\n",
       " (-2.0000000000000004+1.9999999999999996j),\n",
       " (-2-9.797174393178826e-16j),\n",
       " (-1.9999999999999982-2.000000000000001j)]"
      ]
     },
     "execution_count": 3,
     "metadata": {},
     "output_type": "execute_result"
    }
   ],
   "source": [
    "x = np.array([1,2,3,4]);\n",
    "N = 4\n",
    "l = len(x)\n",
    "if N>l:\n",
    "    for i in range(0,N-l):\n",
    "        x.append(0);\n",
    "elif N<l:\n",
    "    x = x[:N];\n",
    "DFT(x,N)"
   ]
  },
  {
   "cell_type": "code",
   "execution_count": 5,
   "metadata": {},
   "outputs": [],
   "source": [
    "def InverseDFT(FmList,N):\n",
    "    fnList = []\n",
    "    for n in range(N):\n",
    "        fn = 0.0\n",
    "        for m in range(N):\n",
    "            fn += FmList[m] * cmath.exp(1j * pi2 * m * n / N)\n",
    "        fnList.append(fn/N)\n",
    "    return fnList"
   ]
  },
  {
   "cell_type": "code",
   "execution_count": 6,
   "metadata": {},
   "outputs": [
    {
     "data": {
      "text/plain": [
       "[(1+0j),\n",
       " (2+1.1102230246251565e-16j),\n",
       " (3-1.6653345369377348e-16j),\n",
       " (3.9999999999999996-4.996003610813204e-16j)]"
      ]
     },
     "execution_count": 6,
     "metadata": {},
     "output_type": "execute_result"
    }
   ],
   "source": [
    "x = np.array([10,-2+2j,-2,-2-2j]);\n",
    "N = 4\n",
    "l = len(x)\n",
    "if N>l:\n",
    "    for i in range(0,N-l):\n",
    "        x.append(0);\n",
    "elif N<l:\n",
    "    x = x[:N];\n",
    "InverseDFT(x,N)"
   ]
  },
  {
   "cell_type": "code",
   "execution_count": null,
   "metadata": {},
   "outputs": [],
   "source": []
  }
 ],
 "metadata": {
  "kernelspec": {
   "display_name": "Python 3",
   "language": "python",
   "name": "python3"
  },
  "language_info": {
   "codemirror_mode": {
    "name": "ipython",
    "version": 3
   },
   "file_extension": ".py",
   "mimetype": "text/x-python",
   "name": "python",
   "nbconvert_exporter": "python",
   "pygments_lexer": "ipython3",
   "version": "3.7.3"
  }
 },
 "nbformat": 4,
 "nbformat_minor": 2
}
