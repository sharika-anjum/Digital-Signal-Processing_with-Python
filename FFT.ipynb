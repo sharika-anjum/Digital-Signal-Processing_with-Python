{
 "cells": [
  {
   "cell_type": "code",
   "execution_count": 1,
   "metadata": {},
   "outputs": [],
   "source": [
    "import numpy as np"
   ]
  },
  {
   "cell_type": "code",
   "execution_count": 2,
   "metadata": {},
   "outputs": [],
   "source": [
    "def FFT(x):\n",
    "    N = x.shape[0]\n",
    "\n",
    "    if np.log2(N) % 1 > 0:\n",
    "        raise ValueError(\"size of x must be a power of 2\")\n",
    "    \n",
    "    n = np.arange(N)\n",
    "    k = n[:, None]\n",
    "    M = np.exp(-2j * np.pi * n * k / N)\n",
    "    X = np.dot(M, x.reshape((N, -1)))\n",
    "\n",
    "    # recursive calculation\n",
    "    while X.shape[0] < N:\n",
    "        X_even = X[:, :X.shape[1] / 2]\n",
    "        X_odd = X[:, X.shape[1] / 2:]\n",
    "        factor = np.exp(-1j * np.pi * np.arange(X.shape[0])\n",
    "                        / X.shape[0])[:, None]\n",
    "        X = np.vstack([X_even + factor * X_odd,\n",
    "                       X_even - factor * X_odd])\n",
    "\n",
    "    return X"
   ]
  },
  {
   "cell_type": "code",
   "execution_count": 3,
   "metadata": {},
   "outputs": [],
   "source": [
    "x = np.array([1,2,3,4])"
   ]
  },
  {
   "cell_type": "code",
   "execution_count": 4,
   "metadata": {},
   "outputs": [
    {
     "data": {
      "text/plain": [
       "array([[10.+0.00000000e+00j],\n",
       "       [-2.+2.00000000e+00j],\n",
       "       [-2.-9.79717439e-16j],\n",
       "       [-2.-2.00000000e+00j]])"
      ]
     },
     "execution_count": 4,
     "metadata": {},
     "output_type": "execute_result"
    }
   ],
   "source": [
    "FFT(x)"
   ]
  },
  {
   "cell_type": "code",
   "execution_count": null,
   "metadata": {},
   "outputs": [],
   "source": []
  }
 ],
 "metadata": {
  "kernelspec": {
   "display_name": "Python 3",
   "language": "python",
   "name": "python3"
  },
  "language_info": {
   "codemirror_mode": {
    "name": "ipython",
    "version": 3
   },
   "file_extension": ".py",
   "mimetype": "text/x-python",
   "name": "python",
   "nbconvert_exporter": "python",
   "pygments_lexer": "ipython3",
   "version": "3.7.3"
  }
 },
 "nbformat": 4,
 "nbformat_minor": 2
}
